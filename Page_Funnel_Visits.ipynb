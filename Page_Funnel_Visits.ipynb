{
 "cells": [
  {
   "cell_type": "code",
   "execution_count": 1,
   "metadata": {},
   "outputs": [],
   "source": [
    "import pandas as pd"
   ]
  },
  {
   "cell_type": "markdown",
   "metadata": {},
   "source": [
    "Import all the files"
   ]
  },
  {
   "cell_type": "code",
   "execution_count": 2,
   "metadata": {},
   "outputs": [],
   "source": [
    "visits = pd.read_csv('visits.csv',\n",
    "                     parse_dates=[1])\n",
    "cart = pd.read_csv('cart.csv',\n",
    "                   parse_dates=[1])\n",
    "                   \n",
    "checkout = pd.read_csv('checkout.csv',\n",
    "                       parse_dates=[1])\n",
    "purchase = pd.read_csv('purchase.csv',\n",
    "                       parse_dates=[1])"
   ]
  },
  {
   "cell_type": "markdown",
   "metadata": {},
   "source": [
    "Step 1: Inspect the DataFrames using `print` and `head`"
   ]
  },
  {
   "cell_type": "code",
   "execution_count": 3,
   "metadata": {},
   "outputs": [
    {
     "name": "stdout",
     "output_type": "stream",
     "text": [
      "                                user_id          visit_time\n",
      "0  943647ef-3682-4750-a2e1-918ba6f16188 2017-04-07 15:14:00\n",
      "1  0c3a3dd0-fb64-4eac-bf84-ba069ce409f2 2017-01-26 14:24:00\n",
      "2  6e0b2d60-4027-4d9a-babd-0e7d40859fb1 2017-08-20 08:23:00\n",
      "3  6879527e-c5a6-4d14-b2da-50b85212b0ab 2017-11-04 18:15:00\n",
      "4  a84327ff-5daa-4ba1-b789-d5b4caf81e96 2017-02-27 11:25:00\n",
      "                                user_id           cart_time\n",
      "0  2be90e7c-9cca-44e0-bcc5-124b945ff168 2017-11-07 20:45:00\n",
      "1  4397f73f-1da3-4ab3-91af-762792e25973 2017-05-27 01:35:00\n",
      "2  a9db3d4b-0a0a-4398-a55a-ebb2c7adf663 2017-03-04 10:38:00\n",
      "3  b594862a-36c5-47d5-b818-6e9512b939b3 2017-09-27 08:22:00\n",
      "4  a68a16e2-94f0-4ce8-8ce3-784af0bbb974 2017-07-26 15:48:00\n",
      "                                user_id       checkout_time\n",
      "0  d33bdc47-4afa-45bc-b4e4-dbe948e34c0d 2017-06-25 09:29:00\n",
      "1  4ac186f0-9954-4fea-8a27-c081e428e34e 2017-04-07 20:11:00\n",
      "2  3c9c78a7-124a-4b77-8d2e-e1926e011e7d 2017-07-13 11:38:00\n",
      "3  89fe330a-8966-4756-8f7c-3bdbcd47279a 2017-04-20 16:15:00\n",
      "4  3ccdaf69-2d30-40de-b083-51372881aedd 2017-01-08 20:52:00\n",
      "                                user_id       purchase_time\n",
      "0  4b44ace4-2721-47a0-b24b-15fbfa2abf85 2017-05-11 04:25:00\n",
      "1  02e684ae-a448-408f-a9ff-dcb4a5c99aac 2017-09-05 08:45:00\n",
      "2  4b4bc391-749e-4b90-ab8f-4f6e3c84d6dc 2017-11-20 20:49:00\n",
      "3  a5dbb25f-3c36-4103-9030-9f7c6241cd8d 2017-01-22 15:18:00\n",
      "4  46a3186d-7f5a-4ab9-87af-84d05bfd4867 2017-06-11 11:32:00\n"
     ]
    }
   ],
   "source": [
    "print(visits.head(5))\n",
    "print(cart.head(5))\n",
    "print(checkout.head(5))\n",
    "print(purchase.head(5))"
   ]
  },
  {
   "cell_type": "markdown",
   "metadata": {},
   "source": [
    "Step 2: Left merging visits and cart"
   ]
  },
  {
   "cell_type": "code",
   "execution_count": 4,
   "metadata": {},
   "outputs": [
    {
     "name": "stdout",
     "output_type": "stream",
     "text": [
      "                                   user_id          visit_time  \\\n",
      "0     943647ef-3682-4750-a2e1-918ba6f16188 2017-04-07 15:14:00   \n",
      "1     0c3a3dd0-fb64-4eac-bf84-ba069ce409f2 2017-01-26 14:24:00   \n",
      "2     6e0b2d60-4027-4d9a-babd-0e7d40859fb1 2017-08-20 08:23:00   \n",
      "3     6879527e-c5a6-4d14-b2da-50b85212b0ab 2017-11-04 18:15:00   \n",
      "4     a84327ff-5daa-4ba1-b789-d5b4caf81e96 2017-02-27 11:25:00   \n",
      "...                                    ...                 ...   \n",
      "1995  33913ac2-03da-45ae-8fc3-fea39df827c6 2017-03-25 03:29:00   \n",
      "1996  4f850132-b99d-4623-80e6-6e61d003577e 2017-01-08 09:57:00   \n",
      "1997  f0830b9b-1f5c-4e74-b63d-3f847cc6ce70 2017-09-07 12:56:00   \n",
      "1998  b01bffa7-63ba-4cd3-9d93-eb1477c23831 2017-07-20 04:37:00   \n",
      "1999  0336ca81-8d68-443f-9248-ac0b8ad147d5 2017-11-15 10:11:00   \n",
      "\n",
      "               cart_time  \n",
      "0                    NaT  \n",
      "1    2017-01-26 14:44:00  \n",
      "2    2017-08-20 08:31:00  \n",
      "3                    NaT  \n",
      "4                    NaT  \n",
      "...                  ...  \n",
      "1995                 NaT  \n",
      "1996                 NaT  \n",
      "1997                 NaT  \n",
      "1998                 NaT  \n",
      "1999                 NaT  \n",
      "\n",
      "[2000 rows x 3 columns]\n"
     ]
    }
   ],
   "source": [
    "visits_cart = pd.merge(visits, cart, how=\"left\")\n",
    "print(visits_cart)"
   ]
  },
  {
   "cell_type": "markdown",
   "metadata": {},
   "source": [
    "Step 3: How long is `visits_cart`?"
   ]
  },
  {
   "cell_type": "code",
   "execution_count": 5,
   "metadata": {},
   "outputs": [
    {
     "name": "stdout",
     "output_type": "stream",
     "text": [
      "Visits_cart length: 2000\n"
     ]
    }
   ],
   "source": [
    "visits_cart_long = len(visits_cart)\n",
    "print(\"Visits_cart length:\", visits_cart_long)"
   ]
  },
  {
   "cell_type": "markdown",
   "metadata": {},
   "source": [
    "Step 4: How many timestamps are null for `cart_time`?"
   ]
  },
  {
   "cell_type": "code",
   "execution_count": 20,
   "metadata": {},
   "outputs": [
    {
     "name": "stdout",
     "output_type": "stream",
     "text": [
      "Number of nulls in cart_time is: 1652\n"
     ]
    }
   ],
   "source": [
    "cart_time_null = visits_cart[\"cart_time\"].isnull().value_counts()\n",
    "print(\"Number of nulls in cart_time is:\", cart_time_null[True])"
   ]
  },
  {
   "cell_type": "markdown",
   "metadata": {},
   "source": [
    "Step 5: What percentage only visited?"
   ]
  },
  {
   "cell_type": "code",
   "execution_count": 25,
   "metadata": {},
   "outputs": [
    {
     "name": "stdout",
     "output_type": "stream",
     "text": [
      "Only visited: 82.6 %\n"
     ]
    }
   ],
   "source": [
    "only_visited = ((visits_cart_long - cart_time_null[False]) / visits_cart_long) * 100\n",
    "print(\"Only visited:\", only_visited,\"%\")"
   ]
  },
  {
   "cell_type": "markdown",
   "metadata": {},
   "source": [
    "Step 6: What percentage placed a t-shirt in their cart but did not checkout?"
   ]
  },
  {
   "cell_type": "code",
   "execution_count": 42,
   "metadata": {},
   "outputs": [
    {
     "name": "stdout",
     "output_type": "stream",
     "text": [
      "Confirming no nulls in checkout: 0\n",
      "\n",
      "Checkout people: 334\n",
      "Did not bought: 82\n",
      "Percentage of people who put t-shirt in the cart but did not bought: 24.55 %\n",
      "\n",
      "                                user_id       checkout_time  \\\n",
      "0  d33bdc47-4afa-45bc-b4e4-dbe948e34c0d 2017-06-25 09:29:00   \n",
      "1  d33bdc47-4afa-45bc-b4e4-dbe948e34c0d 2017-06-25 09:29:00   \n",
      "2  d33bdc47-4afa-45bc-b4e4-dbe948e34c0d 2017-06-25 09:29:00   \n",
      "3  4ac186f0-9954-4fea-8a27-c081e428e34e 2017-04-07 20:11:00   \n",
      "4  3c9c78a7-124a-4b77-8d2e-e1926e011e7d 2017-07-13 11:38:00   \n",
      "\n",
      "        purchase_time  \n",
      "0 2017-06-25 09:49:00  \n",
      "1 2017-06-25 09:56:00  \n",
      "2 2017-06-25 09:57:00  \n",
      "3                 NaT  \n",
      "4                 NaT  \n"
     ]
    }
   ],
   "source": [
    "check_out_purchase = pd.merge(checkout, purchase, how=\"left\")\n",
    "print(\"Confirming no nulls in checkout:\", check_out_purchase[\"checkout_time\"].isnull().sum())\n",
    "print()\n",
    "total_t_shirt_in_cart = check_out_purchase[\"checkout_time\"].notna().sum()\n",
    "total_not_bought = check_out_purchase[\"purchase_time\"].isna().sum()\n",
    "print(\"Checkout people:\", total_t_shirt_in_cart)\n",
    "print(\"Did not bought:\", total_not_bought)\n",
    "print(\"Percentage of people who put t-shirt in the cart but did not bought:\", round((total_not_bought / total_t_shirt_in_cart) * 100, 2),\"%\")\n",
    "print()\n",
    "print(check_out_purchase.head())"
   ]
  },
  {
   "cell_type": "markdown",
   "metadata": {},
   "source": [
    "Step 7: Merge it all together"
   ]
  },
  {
   "cell_type": "code",
   "execution_count": 63,
   "metadata": {},
   "outputs": [
    {
     "name": "stdout",
     "output_type": "stream",
     "text": [
      "                                user_id          visit_time  \\\n",
      "0  0000be8d-c6f8-47b7-9c10-11ea2810f011 2017-08-21 04:49:00   \n",
      "1  00065d4e-909c-48b5-a69e-27a1abbdbb87 2017-11-14 08:07:00   \n",
      "2  000b010b-4406-4fd0-97da-747d792a99c5 2017-07-07 10:13:00   \n",
      "3  007b2a00-7b11-4181-a976-795b8d9e9bb8 2017-06-27 18:34:00   \n",
      "4  009270e0-1d69-4090-9f9a-b0b874b7e6e0 2017-03-01 09:08:00   \n",
      "\n",
      "            cart_time       checkout_time       purchase_time  \n",
      "0                 NaT                 NaT                 NaT  \n",
      "1 2017-11-14 08:11:00 2017-11-14 08:38:00 2017-11-14 08:50:00  \n",
      "2                 NaT                 NaT                 NaT  \n",
      "3                 NaT                 NaT                 NaT  \n",
      "4 2017-03-01 09:17:00 2017-03-01 09:31:00 2017-03-01 09:37:00  \n"
     ]
    }
   ],
   "source": [
    "merge_1 = pd.merge(visits, cart, how=\"outer\")\n",
    "merge_2 = pd.merge(checkout, purchase, how=\"outer\")\n",
    "merge_all = pd.merge(merge_1, merge_2, how=\"outer\")\n",
    "print(merge_all.head())\n"
   ]
  },
  {
   "cell_type": "markdown",
   "metadata": {},
   "source": [
    "Step 8: % of users who got to checkout but did not purchase"
   ]
  },
  {
   "cell_type": "code",
   "execution_count": 106,
   "metadata": {},
   "outputs": [
    {
     "name": "stdout",
     "output_type": "stream",
     "text": [
      "Went to checkout: 334\n",
      "Purchased: 252\n",
      "Went to checkout and purchased: 76\n",
      "Total people: 2108\n",
      "Percentage of people who went to checkout and purchased: 3.61 %\n",
      "Percentage of people who went to checkout and did not purchased: 96.39 %\n"
     ]
    }
   ],
   "source": [
    "went_to_checkout = (merge_all[\"checkout_time\"].notnull().sum())\n",
    "purchased = (merge_all[\"purchase_time\"].notnull().sum())\n",
    "to_check_out_and_purchased = went_to_checkout & purchased\n",
    "total_people = len(merge_all)\n",
    "print(\"Went to checkout:\", went_to_checkout)\n",
    "print(\"Purchased:\", purchased)\n",
    "print(\"Went to checkout and purchased:\", to_check_out_and_purchased)\n",
    "print(\"Total people:\", total_people)\n",
    "print(\"Percentage of people who went to checkout and purchased:\", round((to_check_out_and_purchased / total_people) * 100, 2),\"%\")\n",
    "print(\"Percentage of people who went to checkout and did not purchased:\", 100 - round((to_check_out_and_purchased / total_people) * 100, 2),\"%\")\n",
    "\n"
   ]
  },
  {
   "cell_type": "markdown",
   "metadata": {},
   "source": [
    "Step 9: check each part of the funnel, let's print all 3 of them again"
   ]
  },
  {
   "cell_type": "code",
   "execution_count": 107,
   "metadata": {},
   "outputs": [
    {
     "name": "stdout",
     "output_type": "stream",
     "text": [
      "Total visitors: 2000\n",
      "Total carts created: 348\n",
      "Total checkout: 226\n",
      "Total purchase: 252\n",
      "\n",
      "Something wrong\n",
      "Lets merge-left\n",
      "length of all the left merged df: 2108\n",
      "Unique visitors: 2000\n",
      "Unique cartors: 348\n",
      "Unique checkouters: 226\n",
      "Unique purchasors: 144\n",
      "\n",
      "Did visit and purchased: 7.2\n",
      "Visit but did not purchase: 92.8\n"
     ]
    }
   ],
   "source": [
    "visitors = visits[\"visit_time\"].notnull().sum()\n",
    "cartors = cart[\"cart_time\"].notnull().sum()\n",
    "checkouters = checkout[\"checkout_time\"].notnull().sum()\n",
    "purchasors = purchase[\"purchase_time\"].notnull().sum()\n",
    "\n",
    "print(\"Total visitors:\", visitors)\n",
    "print(\"Total carts created:\", cartors)\n",
    "print(\"Total checkout:\", checkouters)\n",
    "print(\"Total purchase:\", purchasors)\n",
    "print()\n",
    "print(\"Something wrong\")\n",
    "print(\"Lets merge-left\")\n",
    "# Merge visits and cart using a left join\n",
    "left_merge_1 = visits.merge(cart, how=\"left\")\n",
    "\n",
    "# Merge the result with checkout using a left join\n",
    "left_merge_2 = left_merge_1.merge(checkout, how=\"left\")\n",
    "\n",
    "# Merge the result with purchase using a left join\n",
    "left_merge_3 = left_merge_2.merge(purchase, how=\"left\")\n",
    "print(\"length of all the left merged df:\", len(left_merge_3))\n",
    "print(\"Unique visitors:\", left_merge_3[\"user_id\"].nunique())\n",
    "unique_visitorssss = left_merge_3[\"user_id\"].nunique()\n",
    "unique_cartors = left_merge_3[left_merge_3[\"cart_time\"].notnull()][\"user_id\"].nunique()\n",
    "unique_checkouters = left_merge_3[left_merge_3[\"checkout_time\"].notnull()][\"user_id\"].nunique()\n",
    "unique_purchasors = left_merge_3[left_merge_3[\"purchase_time\"].notnull()][\"user_id\"].nunique()\n",
    "print(\"Unique cartors:\", unique_cartors)\n",
    "print(\"Unique checkouters:\", unique_checkouters)\n",
    "print(\"Unique purchasors:\", unique_purchasors)\n",
    "\n",
    "percentage_visitors_purchased = ( unique_purchasors / unique_visitorssss) * 100\n",
    "print()\n",
    "print(\"Did visit and purchased:\", round(percentage_visitors_purchased, 2))\n",
    "visitors_did_not_purchased = 100 - percentage_visitors_purchased\n",
    "print(\"Visit but did not purchase:\", visitors_did_not_purchased)\n",
    "\n",
    "\n"
   ]
  },
  {
   "cell_type": "markdown",
   "metadata": {},
   "source": [
    "*The weakest part of the funnel is clearly getting a person who visited the site to add a tshirt to their cart. Once they've added a t-shirt to their cart it is fairly likely they end up purchasing it. A suggestion could be to make the add-to-cart button more prominent on the front page.*\n",
    "\n",
    "\n",
    "Step 10: adding new column"
   ]
  },
  {
   "cell_type": "code",
   "execution_count": 111,
   "metadata": {},
   "outputs": [
    {
     "name": "stdout",
     "output_type": "stream",
     "text": [
      "                                user_id          visit_time  \\\n",
      "0  943647ef-3682-4750-a2e1-918ba6f16188 2017-04-07 15:14:00   \n",
      "1  0c3a3dd0-fb64-4eac-bf84-ba069ce409f2 2017-01-26 14:24:00   \n",
      "2  6e0b2d60-4027-4d9a-babd-0e7d40859fb1 2017-08-20 08:23:00   \n",
      "3  6879527e-c5a6-4d14-b2da-50b85212b0ab 2017-11-04 18:15:00   \n",
      "4  a84327ff-5daa-4ba1-b789-d5b4caf81e96 2017-02-27 11:25:00   \n",
      "\n",
      "            cart_time       checkout_time       purchase_time time_to_purchase  \n",
      "0                 NaT                 NaT                 NaT              NaT  \n",
      "1 2017-01-26 14:44:00 2017-01-26 14:54:00 2017-01-26 15:08:00  0 days 00:44:00  \n",
      "2 2017-08-20 08:31:00                 NaT                 NaT              NaT  \n",
      "3                 NaT                 NaT                 NaT              NaT  \n",
      "4                 NaT                 NaT                 NaT              NaT  \n"
     ]
    }
   ],
   "source": [
    "left_merge_3[\"time_to_purchase\"] = left_merge_3[\"purchase_time\"] - left_merge_3[\"visit_time\"]\n",
    "\n",
    "print(left_merge_3.head())"
   ]
  },
  {
   "cell_type": "markdown",
   "metadata": {},
   "source": [
    "Step 11: examine the results"
   ]
  },
  {
   "cell_type": "code",
   "execution_count": 116,
   "metadata": {},
   "outputs": [
    {
     "name": "stdout",
     "output_type": "stream",
     "text": [
      "                                user_id          visit_time  \\\n",
      "0  943647ef-3682-4750-a2e1-918ba6f16188 2017-04-07 15:14:00   \n",
      "1  0c3a3dd0-fb64-4eac-bf84-ba069ce409f2 2017-01-26 14:24:00   \n",
      "2  6e0b2d60-4027-4d9a-babd-0e7d40859fb1 2017-08-20 08:23:00   \n",
      "3  6879527e-c5a6-4d14-b2da-50b85212b0ab 2017-11-04 18:15:00   \n",
      "4  a84327ff-5daa-4ba1-b789-d5b4caf81e96 2017-02-27 11:25:00   \n",
      "\n",
      "            cart_time       checkout_time       purchase_time time_to_purchase  \n",
      "0                 NaT                 NaT                 NaT              NaT  \n",
      "1 2017-01-26 14:44:00 2017-01-26 14:54:00 2017-01-26 15:08:00  0 days 00:44:00  \n",
      "2 2017-08-20 08:31:00                 NaT                 NaT              NaT  \n",
      "3                 NaT                 NaT                 NaT              NaT  \n",
      "4                 NaT                 NaT                 NaT              NaT  \n",
      "Examining the first result that is valid:\n",
      "0 days 00:44:00\n"
     ]
    }
   ],
   "source": [
    "print(left_merge_3.head())\n",
    "print(\"Examining the first result that is valid:\")\n",
    "# Find and print the first valid (not null) value in the \"time_to_purchase\" column\n",
    "first_valid_index = left_merge_3[\"time_to_purchase\"].first_valid_index()\n",
    "if first_valid_index is not None:\n",
    "    print(left_merge_3.loc[first_valid_index, \"time_to_purchase\"])\n",
    "else:\n",
    "    print(\"No valid time_to_purchase found.\")"
   ]
  },
  {
   "cell_type": "markdown",
   "metadata": {},
   "source": [
    "Step 12: average time to purchase"
   ]
  },
  {
   "cell_type": "code",
   "execution_count": 121,
   "metadata": {},
   "outputs": [
    {
     "name": "stdout",
     "output_type": "stream",
     "text": [
      "Average time to purchase: 0 days 00:43:12.380952380\n"
     ]
    }
   ],
   "source": [
    "average_time_to_purchase = left_merge_3[\"time_to_purchase\"].mean()\n",
    "\n",
    "print(\"Average time to purchase:\",average_time_to_purchase)"
   ]
  },
  {
   "cell_type": "code",
   "execution_count": null,
   "metadata": {},
   "outputs": [],
   "source": []
  }
 ],
 "metadata": {
  "kernelspec": {
   "display_name": "Codecademy ML",
   "language": "python",
   "name": "codeacademy"
  },
  "language_info": {
   "codemirror_mode": {
    "name": "ipython",
    "version": 3
   },
   "file_extension": ".py",
   "mimetype": "text/x-python",
   "name": "python",
   "nbconvert_exporter": "python",
   "pygments_lexer": "ipython3",
   "version": "3.11.7"
  }
 },
 "nbformat": 4,
 "nbformat_minor": 4
}
